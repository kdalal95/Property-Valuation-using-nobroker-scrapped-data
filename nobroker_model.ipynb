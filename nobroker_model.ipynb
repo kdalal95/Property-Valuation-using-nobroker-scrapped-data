{
 "cells": [
  {
   "cell_type": "code",
   "execution_count": 4,
   "metadata": {},
   "outputs": [],
   "source": [
    "import pandas as pd\n",
    "import numpy as np\n",
    "import seaborn as sns\n",
    "import matplotlib.pyplot as plt"
   ]
  },
  {
   "cell_type": "code",
   "execution_count": 5,
   "metadata": {},
   "outputs": [],
   "source": [
    "df= pd.read_csv('final_nobroker.csv')"
   ]
  },
  {
   "cell_type": "code",
   "execution_count": 6,
   "metadata": {},
   "outputs": [
    {
     "data": {
      "text/html": [
       "<div>\n",
       "<style scoped>\n",
       "    .dataframe tbody tr th:only-of-type {\n",
       "        vertical-align: middle;\n",
       "    }\n",
       "\n",
       "    .dataframe tbody tr th {\n",
       "        vertical-align: top;\n",
       "    }\n",
       "\n",
       "    .dataframe thead th {\n",
       "        text-align: right;\n",
       "    }\n",
       "</style>\n",
       "<table border=\"1\" class=\"dataframe\">\n",
       "  <thead>\n",
       "    <tr style=\"text-align: right;\">\n",
       "      <th></th>\n",
       "      <th>name</th>\n",
       "      <th>price</th>\n",
       "      <th>area</th>\n",
       "      <th>bedrooms</th>\n",
       "      <th>bathroom</th>\n",
       "      <th>balcony</th>\n",
       "      <th>parking</th>\n",
       "      <th>power_backup</th>\n",
       "      <th>bldg_age</th>\n",
       "      <th>flooring</th>\n",
       "      <th>furnishing</th>\n",
       "      <th>facing</th>\n",
       "      <th>floor</th>\n",
       "      <th>livability_score</th>\n",
       "      <th>transit_score</th>\n",
       "      <th>location</th>\n",
       "      <th>final_price</th>\n",
       "    </tr>\n",
       "  </thead>\n",
       "  <tbody>\n",
       "    <tr>\n",
       "      <th>0</th>\n",
       "      <td>2 BHK For Sale in Bangalore South</td>\n",
       "      <td>50 Lacs</td>\n",
       "      <td>600</td>\n",
       "      <td>2</td>\n",
       "      <td>2</td>\n",
       "      <td>NaN</td>\n",
       "      <td>Bike and Car</td>\n",
       "      <td>None</td>\n",
       "      <td>&gt;10 years</td>\n",
       "      <td>Marble/Granite</td>\n",
       "      <td>Semi</td>\n",
       "      <td>North</td>\n",
       "      <td>North</td>\n",
       "      <td>NaN</td>\n",
       "      <td>NaN</td>\n",
       "      <td>Bangalore</td>\n",
       "      <td>5000000</td>\n",
       "    </tr>\n",
       "    <tr>\n",
       "      <th>1</th>\n",
       "      <td>3 BHK For Sale in Jayanagar 3rd Block</td>\n",
       "      <td>5.25 Crores</td>\n",
       "      <td>2,100</td>\n",
       "      <td>3</td>\n",
       "      <td>3</td>\n",
       "      <td>2.0</td>\n",
       "      <td>Bike and Car</td>\n",
       "      <td>Partial</td>\n",
       "      <td>&gt;10 years</td>\n",
       "      <td>Vitrified Tiles</td>\n",
       "      <td>Unfurnished</td>\n",
       "      <td>West</td>\n",
       "      <td>West</td>\n",
       "      <td>NaN</td>\n",
       "      <td>7.6</td>\n",
       "      <td>Bangalore</td>\n",
       "      <td>52500000</td>\n",
       "    </tr>\n",
       "    <tr>\n",
       "      <th>2</th>\n",
       "      <td>2 BHK For Sale in Armaan , Hombegowda Nagar</td>\n",
       "      <td>38 Lacs</td>\n",
       "      <td>825</td>\n",
       "      <td>2</td>\n",
       "      <td>2</td>\n",
       "      <td>NaN</td>\n",
       "      <td>Bike</td>\n",
       "      <td>None</td>\n",
       "      <td>3-5 years</td>\n",
       "      <td>NaN</td>\n",
       "      <td>Semi</td>\n",
       "      <td>East</td>\n",
       "      <td>02-May</td>\n",
       "      <td>NaN</td>\n",
       "      <td>NaN</td>\n",
       "      <td>Bangalore</td>\n",
       "      <td>3800000</td>\n",
       "    </tr>\n",
       "    <tr>\n",
       "      <th>3</th>\n",
       "      <td>2 BHK For Sale in Adarsh Vihar, Suddagunte Palya</td>\n",
       "      <td>90 Lacs</td>\n",
       "      <td>1,255</td>\n",
       "      <td>2</td>\n",
       "      <td>2</td>\n",
       "      <td>NaN</td>\n",
       "      <td>Bike and Car</td>\n",
       "      <td>None</td>\n",
       "      <td>&gt;10 years</td>\n",
       "      <td>NaN</td>\n",
       "      <td>Semi</td>\n",
       "      <td>South</td>\n",
       "      <td>03-Jun</td>\n",
       "      <td>NaN</td>\n",
       "      <td>2.3</td>\n",
       "      <td>Bangalore</td>\n",
       "      <td>9000000</td>\n",
       "    </tr>\n",
       "    <tr>\n",
       "      <th>4</th>\n",
       "      <td>3 BHK For Sale in Adarsh Vihar, Suddagunte Palya</td>\n",
       "      <td>1.3 Crores</td>\n",
       "      <td>1,700</td>\n",
       "      <td>3</td>\n",
       "      <td>3</td>\n",
       "      <td>NaN</td>\n",
       "      <td>Bike and Car</td>\n",
       "      <td>None</td>\n",
       "      <td>&gt;10 years</td>\n",
       "      <td>NaN</td>\n",
       "      <td>Semi</td>\n",
       "      <td>South</td>\n",
       "      <td>03-May</td>\n",
       "      <td>NaN</td>\n",
       "      <td>NaN</td>\n",
       "      <td>Bangalore</td>\n",
       "      <td>13000000</td>\n",
       "    </tr>\n",
       "  </tbody>\n",
       "</table>\n",
       "</div>"
      ],
      "text/plain": [
       "                                               name        price   area  \\\n",
       "0                 2 BHK For Sale in Bangalore South      50 Lacs    600   \n",
       "1             3 BHK For Sale in Jayanagar 3rd Block  5.25 Crores  2,100   \n",
       "2       2 BHK For Sale in Armaan , Hombegowda Nagar      38 Lacs    825   \n",
       "3  2 BHK For Sale in Adarsh Vihar, Suddagunte Palya      90 Lacs  1,255   \n",
       "4  3 BHK For Sale in Adarsh Vihar, Suddagunte Palya   1.3 Crores  1,700   \n",
       "\n",
       "   bedrooms  bathroom  balcony       parking power_backup   bldg_age  \\\n",
       "0         2         2      NaN  Bike and Car         None  >10 years   \n",
       "1         3         3      2.0  Bike and Car      Partial  >10 years   \n",
       "2         2         2      NaN          Bike         None  3-5 years   \n",
       "3         2         2      NaN  Bike and Car         None  >10 years   \n",
       "4         3         3      NaN  Bike and Car         None  >10 years   \n",
       "\n",
       "          flooring   furnishing facing   floor  livability_score  \\\n",
       "0   Marble/Granite         Semi  North   North               NaN   \n",
       "1  Vitrified Tiles  Unfurnished   West    West               NaN   \n",
       "2              NaN         Semi   East  02-May               NaN   \n",
       "3              NaN         Semi  South  03-Jun               NaN   \n",
       "4              NaN         Semi  South  03-May               NaN   \n",
       "\n",
       "   transit_score   location  final_price  \n",
       "0            NaN  Bangalore      5000000  \n",
       "1            7.6  Bangalore     52500000  \n",
       "2            NaN  Bangalore      3800000  \n",
       "3            2.3  Bangalore      9000000  \n",
       "4            NaN  Bangalore     13000000  "
      ]
     },
     "execution_count": 6,
     "metadata": {},
     "output_type": "execute_result"
    }
   ],
   "source": [
    "df.head()"
   ]
  },
  {
   "cell_type": "code",
   "execution_count": 7,
   "metadata": {},
   "outputs": [
    {
     "data": {
      "text/plain": [
       "(10071, 17)"
      ]
     },
     "execution_count": 7,
     "metadata": {},
     "output_type": "execute_result"
    }
   ],
   "source": [
    "df.shape"
   ]
  },
  {
   "cell_type": "code",
   "execution_count": 8,
   "metadata": {},
   "outputs": [
    {
     "name": "stdout",
     "output_type": "stream",
     "text": [
      "<class 'pandas.core.frame.DataFrame'>\n",
      "RangeIndex: 10071 entries, 0 to 10070\n",
      "Data columns (total 17 columns):\n",
      " #   Column            Non-Null Count  Dtype  \n",
      "---  ------            --------------  -----  \n",
      " 0   name              10071 non-null  object \n",
      " 1   price             10071 non-null  object \n",
      " 2   area              10071 non-null  object \n",
      " 3   bedrooms          10071 non-null  int64  \n",
      " 4   bathroom          10071 non-null  int64  \n",
      " 5   balcony           5807 non-null   float64\n",
      " 6   parking           10071 non-null  object \n",
      " 7   power_backup      10071 non-null  object \n",
      " 8   bldg_age          10070 non-null  object \n",
      " 9   flooring          6371 non-null   object \n",
      " 10  furnishing        10071 non-null  object \n",
      " 11  facing            10056 non-null  object \n",
      " 12  floor             10070 non-null  object \n",
      " 13  livability_score  0 non-null      float64\n",
      " 14  transit_score     7425 non-null   float64\n",
      " 15  location          10071 non-null  object \n",
      " 16  final_price       10071 non-null  int64  \n",
      "dtypes: float64(3), int64(3), object(11)\n",
      "memory usage: 1.3+ MB\n"
     ]
    }
   ],
   "source": [
    "df.info()"
   ]
  },
  {
   "cell_type": "code",
   "execution_count": 9,
   "metadata": {},
   "outputs": [],
   "source": [
    "df1= df.drop(['name', 'price', 'floor', 'livability_score'], axis=1)"
   ]
  },
  {
   "cell_type": "code",
   "execution_count": 10,
   "metadata": {},
   "outputs": [
    {
     "data": {
      "text/plain": [
       "Index(['area', 'bedrooms', 'bathroom', 'balcony', 'parking', 'power_backup',\n",
       "       'bldg_age', 'flooring', 'furnishing', 'facing', 'transit_score',\n",
       "       'location', 'final_price'],\n",
       "      dtype='object')"
      ]
     },
     "execution_count": 10,
     "metadata": {},
     "output_type": "execute_result"
    }
   ],
   "source": [
    "df1.columns"
   ]
  },
  {
   "cell_type": "markdown",
   "metadata": {},
   "source": [
    "#### Null values treatement"
   ]
  },
  {
   "cell_type": "code",
   "execution_count": 11,
   "metadata": {},
   "outputs": [
    {
     "data": {
      "text/plain": [
       "array(['Marble/Granite', 'Vitrified Tiles', nan, 'Cement', 'Mosaic',\n",
       "       'Wooden'], dtype=object)"
      ]
     },
     "execution_count": 11,
     "metadata": {},
     "output_type": "execute_result"
    }
   ],
   "source": [
    "df1.flooring.unique()"
   ]
  },
  {
   "cell_type": "code",
   "execution_count": 12,
   "metadata": {
    "scrolled": true
   },
   "outputs": [
    {
     "data": {
      "text/plain": [
       "array(['>10 years', '3-5 years', '5-10 years', 'Newly Constructed',\n",
       "       '1-3 years', 'Under Construction', nan], dtype=object)"
      ]
     },
     "execution_count": 12,
     "metadata": {},
     "output_type": "execute_result"
    }
   ],
   "source": [
    "df1.bldg_age.unique()"
   ]
  },
  {
   "cell_type": "code",
   "execution_count": 13,
   "metadata": {},
   "outputs": [],
   "source": [
    "# flooring\n",
    "\n",
    "df1.loc[(df1.bldg_age == 'Under Construction'), 'flooring'] = 'Under Construction'\n",
    "\n",
    "df1.flooring.fillna('Basic tiles', inplace = True) "
   ]
  },
  {
   "cell_type": "code",
   "execution_count": 14,
   "metadata": {},
   "outputs": [],
   "source": [
    "# balcony\n",
    "\n",
    "df1.balcony.fillna(0, inplace= True)"
   ]
  },
  {
   "cell_type": "code",
   "execution_count": 15,
   "metadata": {},
   "outputs": [
    {
     "data": {
      "text/plain": [
       "array(['Semi', 'Unfurnished', 'Fully furnished', 'Not Available'],\n",
       "      dtype=object)"
      ]
     },
     "execution_count": 15,
     "metadata": {},
     "output_type": "execute_result"
    }
   ],
   "source": [
    "# furnishing\n",
    "\n",
    "df1.furnishing.unique()"
   ]
  },
  {
   "cell_type": "code",
   "execution_count": 16,
   "metadata": {},
   "outputs": [
    {
     "data": {
      "text/html": [
       "<div>\n",
       "<style scoped>\n",
       "    .dataframe tbody tr th:only-of-type {\n",
       "        vertical-align: middle;\n",
       "    }\n",
       "\n",
       "    .dataframe tbody tr th {\n",
       "        vertical-align: top;\n",
       "    }\n",
       "\n",
       "    .dataframe thead th {\n",
       "        text-align: right;\n",
       "    }\n",
       "</style>\n",
       "<table border=\"1\" class=\"dataframe\">\n",
       "  <thead>\n",
       "    <tr style=\"text-align: right;\">\n",
       "      <th></th>\n",
       "      <th>area</th>\n",
       "      <th>bedrooms</th>\n",
       "      <th>bathroom</th>\n",
       "      <th>balcony</th>\n",
       "      <th>parking</th>\n",
       "      <th>power_backup</th>\n",
       "      <th>bldg_age</th>\n",
       "      <th>flooring</th>\n",
       "      <th>furnishing</th>\n",
       "      <th>facing</th>\n",
       "      <th>transit_score</th>\n",
       "      <th>location</th>\n",
       "      <th>final_price</th>\n",
       "    </tr>\n",
       "  </thead>\n",
       "  <tbody>\n",
       "    <tr>\n",
       "      <th>3348</th>\n",
       "      <td>900</td>\n",
       "      <td>2</td>\n",
       "      <td>0</td>\n",
       "      <td>0.0</td>\n",
       "      <td>-</td>\n",
       "      <td>None</td>\n",
       "      <td>NaN</td>\n",
       "      <td>Basic tiles</td>\n",
       "      <td>Not Available</td>\n",
       "      <td>NaN</td>\n",
       "      <td>NaN</td>\n",
       "      <td>Delhi</td>\n",
       "      <td>3000000</td>\n",
       "    </tr>\n",
       "  </tbody>\n",
       "</table>\n",
       "</div>"
      ],
      "text/plain": [
       "     area  bedrooms  bathroom  balcony parking power_backup bldg_age  \\\n",
       "3348  900         2         0      0.0       -         None      NaN   \n",
       "\n",
       "         flooring     furnishing facing  transit_score location  final_price  \n",
       "3348  Basic tiles  Not Available    NaN            NaN    Delhi      3000000  "
      ]
     },
     "execution_count": 16,
     "metadata": {},
     "output_type": "execute_result"
    }
   ],
   "source": [
    "df1.loc[df1.furnishing == 'Not Available']"
   ]
  },
  {
   "cell_type": "code",
   "execution_count": 17,
   "metadata": {},
   "outputs": [],
   "source": [
    "df1= df1.drop(df1[df1.furnishing== 'Not Available'].index)"
   ]
  },
  {
   "cell_type": "code",
   "execution_count": 18,
   "metadata": {},
   "outputs": [],
   "source": [
    "df1.furnishing.fillna('Unfurnished', inplace= True)"
   ]
  },
  {
   "cell_type": "code",
   "execution_count": 19,
   "metadata": {},
   "outputs": [
    {
     "data": {
      "text/plain": [
       "array(['North', 'West', 'East', 'South', 'North-East', 'South-West',\n",
       "       'South-East', \"Don't Know\", 'North-West', nan], dtype=object)"
      ]
     },
     "execution_count": 19,
     "metadata": {},
     "output_type": "execute_result"
    }
   ],
   "source": [
    "# facing\n",
    "\n",
    "df1.facing.unique()"
   ]
  },
  {
   "cell_type": "code",
   "execution_count": 20,
   "metadata": {},
   "outputs": [],
   "source": [
    "df1.facing.fillna(\"Dont't Know\", inplace= True)"
   ]
  },
  {
   "cell_type": "code",
   "execution_count": 21,
   "metadata": {},
   "outputs": [
    {
     "data": {
      "text/plain": [
       "location\n",
       "Bangalore    5.291483\n",
       "Chennai      5.967883\n",
       "Delhi        3.949725\n",
       "Faridabad    3.457234\n",
       "Ghaziabad    3.261392\n",
       "Gurgaon      1.600223\n",
       "Hyderabad    4.059544\n",
       "Mumbai       5.472858\n",
       "Noida        3.827149\n",
       "Pune         5.469837\n",
       "Name: transit_score, dtype: float64"
      ]
     },
     "execution_count": 21,
     "metadata": {},
     "output_type": "execute_result"
    }
   ],
   "source": [
    "# transit score\n",
    "\n",
    "df1.groupby('location')['transit_score'].mean()"
   ]
  },
  {
   "cell_type": "code",
   "execution_count": 22,
   "metadata": {},
   "outputs": [],
   "source": [
    "df1.loc[((df1.location == 'Bangalore') & (df1.transit_score.isnull())), 'transit_score'] = 5.3\n",
    "df1.loc[((df1.location == 'Chennai') & (df1.transit_score.isnull())), 'transit_score'] = 6.0\n",
    "df1.loc[((df1.location == 'Delhi') & (df1.transit_score.isnull())), 'transit_score'] = 3.9\n",
    "df1.loc[((df1.location == 'Faridabad') & (df1.transit_score.isnull())), 'transit_score'] = 3.5\n",
    "df1.loc[((df1.location == 'Ghaziabad') & (df1.transit_score.isnull())), 'transit_score'] = 3.3\n",
    "df1.loc[((df1.location == 'Gurgaon') & (df1.transit_score.isnull())), 'transit_score'] = 1.6\n",
    "df1.loc[((df1.location == 'Hyderabad') & (df1.transit_score.isnull())), 'transit_score'] = 4.1\n",
    "df1.loc[((df1.location == 'Mumbai') & (df1.transit_score.isnull())), 'transit_score'] = 5.5\n",
    "df1.loc[((df1.location == 'Noida') & (df1.transit_score.isnull())), 'transit_score'] = 3.8\n",
    "df1.loc[((df1.location == 'Pune') & (df1.transit_score.isnull())), 'transit_score'] = 5.5"
   ]
  },
  {
   "cell_type": "markdown",
   "metadata": {},
   "source": [
    "#### Treating categorical variables"
   ]
  },
  {
   "cell_type": "code",
   "execution_count": 23,
   "metadata": {},
   "outputs": [],
   "source": [
    "df1['area']=df1['area'].str.replace(',','')\n",
    "df1['area'] = pd.to_numeric(df1['area'])"
   ]
  },
  {
   "cell_type": "code",
   "execution_count": 24,
   "metadata": {},
   "outputs": [
    {
     "data": {
      "text/html": [
       "<div>\n",
       "<style scoped>\n",
       "    .dataframe tbody tr th:only-of-type {\n",
       "        vertical-align: middle;\n",
       "    }\n",
       "\n",
       "    .dataframe tbody tr th {\n",
       "        vertical-align: top;\n",
       "    }\n",
       "\n",
       "    .dataframe thead th {\n",
       "        text-align: right;\n",
       "    }\n",
       "</style>\n",
       "<table border=\"1\" class=\"dataframe\">\n",
       "  <thead>\n",
       "    <tr style=\"text-align: right;\">\n",
       "      <th></th>\n",
       "      <th>area</th>\n",
       "      <th>bedrooms</th>\n",
       "      <th>bathroom</th>\n",
       "      <th>balcony</th>\n",
       "      <th>parking</th>\n",
       "      <th>power_backup</th>\n",
       "      <th>bldg_age</th>\n",
       "      <th>flooring</th>\n",
       "      <th>furnishing</th>\n",
       "      <th>facing</th>\n",
       "      <th>transit_score</th>\n",
       "      <th>location</th>\n",
       "      <th>final_price</th>\n",
       "    </tr>\n",
       "  </thead>\n",
       "  <tbody>\n",
       "    <tr>\n",
       "      <th>0</th>\n",
       "      <td>600</td>\n",
       "      <td>2</td>\n",
       "      <td>2</td>\n",
       "      <td>0.0</td>\n",
       "      <td>Bike and Car</td>\n",
       "      <td>None</td>\n",
       "      <td>&gt;10 years</td>\n",
       "      <td>Marble/Granite</td>\n",
       "      <td>Semi</td>\n",
       "      <td>North</td>\n",
       "      <td>5.3</td>\n",
       "      <td>Bangalore</td>\n",
       "      <td>5000000</td>\n",
       "    </tr>\n",
       "  </tbody>\n",
       "</table>\n",
       "</div>"
      ],
      "text/plain": [
       "   area  bedrooms  bathroom  balcony       parking power_backup   bldg_age  \\\n",
       "0   600         2         2      0.0  Bike and Car         None  >10 years   \n",
       "\n",
       "         flooring furnishing facing  transit_score   location  final_price  \n",
       "0  Marble/Granite       Semi  North            5.3  Bangalore      5000000  "
      ]
     },
     "execution_count": 24,
     "metadata": {},
     "output_type": "execute_result"
    }
   ],
   "source": [
    "df1.head(1)"
   ]
  },
  {
   "cell_type": "code",
   "execution_count": 25,
   "metadata": {},
   "outputs": [
    {
     "data": {
      "text/plain": [
       "array(['North', 'West', 'East', 'South', 'North-East', 'South-West',\n",
       "       'South-East', \"Don't Know\", 'North-West', \"Dont't Know\"],\n",
       "      dtype=object)"
      ]
     },
     "execution_count": 25,
     "metadata": {},
     "output_type": "execute_result"
    }
   ],
   "source": [
    "df1.facing.unique()"
   ]
  },
  {
   "cell_type": "code",
   "execution_count": 26,
   "metadata": {},
   "outputs": [],
   "source": [
    "park= {'None': 0, 'Bike': 1, 'Car': 2, 'Bike and Car': 3}\n",
    "power= {'None': 0, 'Partial': 1, 'Full': 2}\n",
    "age= {'Under Construction': 1, '>10 years': 2, '5-10 years': 3, '3-5 years': 4, '1-3 years': 5, 'Newly Constructed': 6}\n",
    "furniture= {'Unfurnished': 0, 'Semi': 1, 'Fully furnished': 2}\n",
    "\n",
    "df1['parking']= df1['parking'].map(park)\n",
    "df1['power_backup']= df1['power_backup'].map(power)\n",
    "df1['bldg_age']= df1['bldg_age'].map(age)\n",
    "df1['furnishing']= df1['furnishing'].map(furniture)"
   ]
  },
  {
   "cell_type": "code",
   "execution_count": 27,
   "metadata": {},
   "outputs": [],
   "source": [
    "floor= {'Marble/Granite': 'Tiles', 'Vitrified Tiles': 'Tiles', 'Basic tiles': 'Tiles',\n",
    "       'Mosaic': 'Tiles', 'Under Construction': 'Cement', 'Cement': 'Cement', 'Wooden': 'Wooden'}\n",
    "face= {'North': 'North', 'West': 'West', 'East': 'East', 'South': 'South', 'North-East': 'North', 'South-West': 'South',\n",
    "       'South-East': 'South', \"Don't Know\": 'Dont know', 'North-West': 'North', \"Dont't Know\": 'Dont know'}\n",
    "\n",
    "df1['flooring']= df1['flooring'].map(floor)\n",
    "df1['facing']= df1['facing'].map(face)"
   ]
  },
  {
   "cell_type": "code",
   "execution_count": 28,
   "metadata": {},
   "outputs": [],
   "source": [
    "floor_1= pd.get_dummies(df1.flooring)\n",
    "face_1= pd.get_dummies(df1.facing)\n",
    "loc= pd.get_dummies(df1.location)\n",
    "\n",
    "df2= pd.concat([df1, floor_1, face_1, loc], axis= 1)"
   ]
  },
  {
   "cell_type": "code",
   "execution_count": 29,
   "metadata": {},
   "outputs": [],
   "source": [
    "df2= df2.drop(['flooring', 'facing', 'location'], axis=1)"
   ]
  },
  {
   "cell_type": "code",
   "execution_count": 30,
   "metadata": {},
   "outputs": [
    {
     "data": {
      "text/html": [
       "<div>\n",
       "<style scoped>\n",
       "    .dataframe tbody tr th:only-of-type {\n",
       "        vertical-align: middle;\n",
       "    }\n",
       "\n",
       "    .dataframe tbody tr th {\n",
       "        vertical-align: top;\n",
       "    }\n",
       "\n",
       "    .dataframe thead th {\n",
       "        text-align: right;\n",
       "    }\n",
       "</style>\n",
       "<table border=\"1\" class=\"dataframe\">\n",
       "  <thead>\n",
       "    <tr style=\"text-align: right;\">\n",
       "      <th></th>\n",
       "      <th>area</th>\n",
       "      <th>bedrooms</th>\n",
       "      <th>bathroom</th>\n",
       "      <th>balcony</th>\n",
       "      <th>parking</th>\n",
       "      <th>power_backup</th>\n",
       "      <th>bldg_age</th>\n",
       "      <th>furnishing</th>\n",
       "      <th>transit_score</th>\n",
       "      <th>final_price</th>\n",
       "      <th>...</th>\n",
       "      <th>Bangalore</th>\n",
       "      <th>Chennai</th>\n",
       "      <th>Delhi</th>\n",
       "      <th>Faridabad</th>\n",
       "      <th>Ghaziabad</th>\n",
       "      <th>Gurgaon</th>\n",
       "      <th>Hyderabad</th>\n",
       "      <th>Mumbai</th>\n",
       "      <th>Noida</th>\n",
       "      <th>Pune</th>\n",
       "    </tr>\n",
       "  </thead>\n",
       "  <tbody>\n",
       "    <tr>\n",
       "      <th>0</th>\n",
       "      <td>600</td>\n",
       "      <td>2</td>\n",
       "      <td>2</td>\n",
       "      <td>0.0</td>\n",
       "      <td>3</td>\n",
       "      <td>0</td>\n",
       "      <td>2</td>\n",
       "      <td>1</td>\n",
       "      <td>5.3</td>\n",
       "      <td>5000000</td>\n",
       "      <td>...</td>\n",
       "      <td>1</td>\n",
       "      <td>0</td>\n",
       "      <td>0</td>\n",
       "      <td>0</td>\n",
       "      <td>0</td>\n",
       "      <td>0</td>\n",
       "      <td>0</td>\n",
       "      <td>0</td>\n",
       "      <td>0</td>\n",
       "      <td>0</td>\n",
       "    </tr>\n",
       "    <tr>\n",
       "      <th>1</th>\n",
       "      <td>2100</td>\n",
       "      <td>3</td>\n",
       "      <td>3</td>\n",
       "      <td>2.0</td>\n",
       "      <td>3</td>\n",
       "      <td>1</td>\n",
       "      <td>2</td>\n",
       "      <td>0</td>\n",
       "      <td>7.6</td>\n",
       "      <td>52500000</td>\n",
       "      <td>...</td>\n",
       "      <td>1</td>\n",
       "      <td>0</td>\n",
       "      <td>0</td>\n",
       "      <td>0</td>\n",
       "      <td>0</td>\n",
       "      <td>0</td>\n",
       "      <td>0</td>\n",
       "      <td>0</td>\n",
       "      <td>0</td>\n",
       "      <td>0</td>\n",
       "    </tr>\n",
       "    <tr>\n",
       "      <th>2</th>\n",
       "      <td>825</td>\n",
       "      <td>2</td>\n",
       "      <td>2</td>\n",
       "      <td>0.0</td>\n",
       "      <td>1</td>\n",
       "      <td>0</td>\n",
       "      <td>4</td>\n",
       "      <td>1</td>\n",
       "      <td>5.3</td>\n",
       "      <td>3800000</td>\n",
       "      <td>...</td>\n",
       "      <td>1</td>\n",
       "      <td>0</td>\n",
       "      <td>0</td>\n",
       "      <td>0</td>\n",
       "      <td>0</td>\n",
       "      <td>0</td>\n",
       "      <td>0</td>\n",
       "      <td>0</td>\n",
       "      <td>0</td>\n",
       "      <td>0</td>\n",
       "    </tr>\n",
       "    <tr>\n",
       "      <th>3</th>\n",
       "      <td>1255</td>\n",
       "      <td>2</td>\n",
       "      <td>2</td>\n",
       "      <td>0.0</td>\n",
       "      <td>3</td>\n",
       "      <td>0</td>\n",
       "      <td>2</td>\n",
       "      <td>1</td>\n",
       "      <td>2.3</td>\n",
       "      <td>9000000</td>\n",
       "      <td>...</td>\n",
       "      <td>1</td>\n",
       "      <td>0</td>\n",
       "      <td>0</td>\n",
       "      <td>0</td>\n",
       "      <td>0</td>\n",
       "      <td>0</td>\n",
       "      <td>0</td>\n",
       "      <td>0</td>\n",
       "      <td>0</td>\n",
       "      <td>0</td>\n",
       "    </tr>\n",
       "    <tr>\n",
       "      <th>4</th>\n",
       "      <td>1700</td>\n",
       "      <td>3</td>\n",
       "      <td>3</td>\n",
       "      <td>0.0</td>\n",
       "      <td>3</td>\n",
       "      <td>0</td>\n",
       "      <td>2</td>\n",
       "      <td>1</td>\n",
       "      <td>5.3</td>\n",
       "      <td>13000000</td>\n",
       "      <td>...</td>\n",
       "      <td>1</td>\n",
       "      <td>0</td>\n",
       "      <td>0</td>\n",
       "      <td>0</td>\n",
       "      <td>0</td>\n",
       "      <td>0</td>\n",
       "      <td>0</td>\n",
       "      <td>0</td>\n",
       "      <td>0</td>\n",
       "      <td>0</td>\n",
       "    </tr>\n",
       "  </tbody>\n",
       "</table>\n",
       "<p>5 rows × 28 columns</p>\n",
       "</div>"
      ],
      "text/plain": [
       "   area  bedrooms  bathroom  balcony  parking  power_backup  bldg_age  \\\n",
       "0   600         2         2      0.0        3             0         2   \n",
       "1  2100         3         3      2.0        3             1         2   \n",
       "2   825         2         2      0.0        1             0         4   \n",
       "3  1255         2         2      0.0        3             0         2   \n",
       "4  1700         3         3      0.0        3             0         2   \n",
       "\n",
       "   furnishing  transit_score  final_price  ...  Bangalore  Chennai  Delhi  \\\n",
       "0           1            5.3      5000000  ...          1        0      0   \n",
       "1           0            7.6     52500000  ...          1        0      0   \n",
       "2           1            5.3      3800000  ...          1        0      0   \n",
       "3           1            2.3      9000000  ...          1        0      0   \n",
       "4           1            5.3     13000000  ...          1        0      0   \n",
       "\n",
       "   Faridabad  Ghaziabad  Gurgaon  Hyderabad  Mumbai  Noida  Pune  \n",
       "0          0          0        0          0       0      0     0  \n",
       "1          0          0        0          0       0      0     0  \n",
       "2          0          0        0          0       0      0     0  \n",
       "3          0          0        0          0       0      0     0  \n",
       "4          0          0        0          0       0      0     0  \n",
       "\n",
       "[5 rows x 28 columns]"
      ]
     },
     "execution_count": 30,
     "metadata": {},
     "output_type": "execute_result"
    }
   ],
   "source": [
    "df2.head()"
   ]
  },
  {
   "cell_type": "markdown",
   "metadata": {},
   "source": [
    "#### EDA and Visualization"
   ]
  },
  {
   "cell_type": "code",
   "execution_count": 31,
   "metadata": {},
   "outputs": [
    {
     "data": {
      "text/html": [
       "<div>\n",
       "<style scoped>\n",
       "    .dataframe tbody tr th:only-of-type {\n",
       "        vertical-align: middle;\n",
       "    }\n",
       "\n",
       "    .dataframe tbody tr th {\n",
       "        vertical-align: top;\n",
       "    }\n",
       "\n",
       "    .dataframe thead th {\n",
       "        text-align: right;\n",
       "    }\n",
       "</style>\n",
       "<table border=\"1\" class=\"dataframe\">\n",
       "  <thead>\n",
       "    <tr style=\"text-align: right;\">\n",
       "      <th></th>\n",
       "      <th>area</th>\n",
       "      <th>bedrooms</th>\n",
       "      <th>bathroom</th>\n",
       "      <th>balcony</th>\n",
       "      <th>parking</th>\n",
       "      <th>power_backup</th>\n",
       "      <th>bldg_age</th>\n",
       "      <th>furnishing</th>\n",
       "      <th>transit_score</th>\n",
       "      <th>final_price</th>\n",
       "    </tr>\n",
       "  </thead>\n",
       "  <tbody>\n",
       "    <tr>\n",
       "      <th>count</th>\n",
       "      <td>10070.000000</td>\n",
       "      <td>10070.000000</td>\n",
       "      <td>10070.000000</td>\n",
       "      <td>10070.000000</td>\n",
       "      <td>10070.000000</td>\n",
       "      <td>10070.000000</td>\n",
       "      <td>10070.000000</td>\n",
       "      <td>10070.000000</td>\n",
       "      <td>10070.000000</td>\n",
       "      <td>1.007000e+04</td>\n",
       "    </tr>\n",
       "    <tr>\n",
       "      <th>mean</th>\n",
       "      <td>1216.051043</td>\n",
       "      <td>2.298014</td>\n",
       "      <td>2.302185</td>\n",
       "      <td>1.099603</td>\n",
       "      <td>2.212711</td>\n",
       "      <td>0.380933</td>\n",
       "      <td>3.393247</td>\n",
       "      <td>0.836743</td>\n",
       "      <td>4.416564</td>\n",
       "      <td>9.806992e+06</td>\n",
       "    </tr>\n",
       "    <tr>\n",
       "      <th>std</th>\n",
       "      <td>906.864325</td>\n",
       "      <td>0.918177</td>\n",
       "      <td>1.708858</td>\n",
       "      <td>1.249058</td>\n",
       "      <td>1.075664</td>\n",
       "      <td>0.722133</td>\n",
       "      <td>1.444533</td>\n",
       "      <td>0.673521</td>\n",
       "      <td>2.999903</td>\n",
       "      <td>1.258652e+07</td>\n",
       "    </tr>\n",
       "    <tr>\n",
       "      <th>min</th>\n",
       "      <td>50.000000</td>\n",
       "      <td>1.000000</td>\n",
       "      <td>1.000000</td>\n",
       "      <td>0.000000</td>\n",
       "      <td>0.000000</td>\n",
       "      <td>0.000000</td>\n",
       "      <td>1.000000</td>\n",
       "      <td>0.000000</td>\n",
       "      <td>-10.000000</td>\n",
       "      <td>7.200000e+03</td>\n",
       "    </tr>\n",
       "    <tr>\n",
       "      <th>25%</th>\n",
       "      <td>680.000000</td>\n",
       "      <td>2.000000</td>\n",
       "      <td>2.000000</td>\n",
       "      <td>0.000000</td>\n",
       "      <td>1.000000</td>\n",
       "      <td>0.000000</td>\n",
       "      <td>2.000000</td>\n",
       "      <td>0.000000</td>\n",
       "      <td>3.300000</td>\n",
       "      <td>3.900000e+06</td>\n",
       "    </tr>\n",
       "    <tr>\n",
       "      <th>50%</th>\n",
       "      <td>1000.000000</td>\n",
       "      <td>2.000000</td>\n",
       "      <td>2.000000</td>\n",
       "      <td>1.000000</td>\n",
       "      <td>3.000000</td>\n",
       "      <td>0.000000</td>\n",
       "      <td>3.000000</td>\n",
       "      <td>1.000000</td>\n",
       "      <td>4.400000</td>\n",
       "      <td>6.200000e+06</td>\n",
       "    </tr>\n",
       "    <tr>\n",
       "      <th>75%</th>\n",
       "      <td>1440.000000</td>\n",
       "      <td>3.000000</td>\n",
       "      <td>3.000000</td>\n",
       "      <td>2.000000</td>\n",
       "      <td>3.000000</td>\n",
       "      <td>0.000000</td>\n",
       "      <td>5.000000</td>\n",
       "      <td>1.000000</td>\n",
       "      <td>6.200000</td>\n",
       "      <td>1.100000e+07</td>\n",
       "    </tr>\n",
       "    <tr>\n",
       "      <th>max</th>\n",
       "      <td>15840.000000</td>\n",
       "      <td>4.000000</td>\n",
       "      <td>75.000000</td>\n",
       "      <td>20.000000</td>\n",
       "      <td>3.000000</td>\n",
       "      <td>2.000000</td>\n",
       "      <td>6.000000</td>\n",
       "      <td>2.000000</td>\n",
       "      <td>9.100000</td>\n",
       "      <td>3.000000e+08</td>\n",
       "    </tr>\n",
       "  </tbody>\n",
       "</table>\n",
       "</div>"
      ],
      "text/plain": [
       "               area      bedrooms      bathroom       balcony       parking  \\\n",
       "count  10070.000000  10070.000000  10070.000000  10070.000000  10070.000000   \n",
       "mean    1216.051043      2.298014      2.302185      1.099603      2.212711   \n",
       "std      906.864325      0.918177      1.708858      1.249058      1.075664   \n",
       "min       50.000000      1.000000      1.000000      0.000000      0.000000   \n",
       "25%      680.000000      2.000000      2.000000      0.000000      1.000000   \n",
       "50%     1000.000000      2.000000      2.000000      1.000000      3.000000   \n",
       "75%     1440.000000      3.000000      3.000000      2.000000      3.000000   \n",
       "max    15840.000000      4.000000     75.000000     20.000000      3.000000   \n",
       "\n",
       "       power_backup      bldg_age    furnishing  transit_score   final_price  \n",
       "count  10070.000000  10070.000000  10070.000000   10070.000000  1.007000e+04  \n",
       "mean       0.380933      3.393247      0.836743       4.416564  9.806992e+06  \n",
       "std        0.722133      1.444533      0.673521       2.999903  1.258652e+07  \n",
       "min        0.000000      1.000000      0.000000     -10.000000  7.200000e+03  \n",
       "25%        0.000000      2.000000      0.000000       3.300000  3.900000e+06  \n",
       "50%        0.000000      3.000000      1.000000       4.400000  6.200000e+06  \n",
       "75%        0.000000      5.000000      1.000000       6.200000  1.100000e+07  \n",
       "max        2.000000      6.000000      2.000000       9.100000  3.000000e+08  "
      ]
     },
     "execution_count": 31,
     "metadata": {},
     "output_type": "execute_result"
    }
   ],
   "source": [
    "df1.describe()"
   ]
  },
  {
   "cell_type": "code",
   "execution_count": 32,
   "metadata": {},
   "outputs": [
    {
     "data": {
      "text/html": [
       "<div>\n",
       "<style scoped>\n",
       "    .dataframe tbody tr th:only-of-type {\n",
       "        vertical-align: middle;\n",
       "    }\n",
       "\n",
       "    .dataframe tbody tr th {\n",
       "        vertical-align: top;\n",
       "    }\n",
       "\n",
       "    .dataframe thead th {\n",
       "        text-align: right;\n",
       "    }\n",
       "</style>\n",
       "<table border=\"1\" class=\"dataframe\">\n",
       "  <thead>\n",
       "    <tr style=\"text-align: right;\">\n",
       "      <th></th>\n",
       "      <th>area</th>\n",
       "      <th>bedrooms</th>\n",
       "      <th>bathroom</th>\n",
       "      <th>balcony</th>\n",
       "      <th>parking</th>\n",
       "      <th>power_backup</th>\n",
       "      <th>bldg_age</th>\n",
       "      <th>furnishing</th>\n",
       "      <th>transit_score</th>\n",
       "      <th>final_price</th>\n",
       "    </tr>\n",
       "  </thead>\n",
       "  <tbody>\n",
       "    <tr>\n",
       "      <th>area</th>\n",
       "      <td>1.000000</td>\n",
       "      <td>0.706702</td>\n",
       "      <td>0.742832</td>\n",
       "      <td>0.272279</td>\n",
       "      <td>0.154639</td>\n",
       "      <td>0.067761</td>\n",
       "      <td>0.051706</td>\n",
       "      <td>0.088748</td>\n",
       "      <td>-0.044733</td>\n",
       "      <td>0.561712</td>\n",
       "    </tr>\n",
       "    <tr>\n",
       "      <th>bedrooms</th>\n",
       "      <td>0.706702</td>\n",
       "      <td>1.000000</td>\n",
       "      <td>0.589935</td>\n",
       "      <td>0.243433</td>\n",
       "      <td>0.156029</td>\n",
       "      <td>0.052098</td>\n",
       "      <td>0.051207</td>\n",
       "      <td>0.079967</td>\n",
       "      <td>-0.089845</td>\n",
       "      <td>0.406335</td>\n",
       "    </tr>\n",
       "    <tr>\n",
       "      <th>bathroom</th>\n",
       "      <td>0.742832</td>\n",
       "      <td>0.589935</td>\n",
       "      <td>1.000000</td>\n",
       "      <td>0.278612</td>\n",
       "      <td>0.094320</td>\n",
       "      <td>0.032580</td>\n",
       "      <td>0.059036</td>\n",
       "      <td>0.068755</td>\n",
       "      <td>-0.028692</td>\n",
       "      <td>0.420357</td>\n",
       "    </tr>\n",
       "    <tr>\n",
       "      <th>balcony</th>\n",
       "      <td>0.272279</td>\n",
       "      <td>0.243433</td>\n",
       "      <td>0.278612</td>\n",
       "      <td>1.000000</td>\n",
       "      <td>0.163187</td>\n",
       "      <td>0.294858</td>\n",
       "      <td>0.160317</td>\n",
       "      <td>0.081781</td>\n",
       "      <td>-0.059342</td>\n",
       "      <td>0.079288</td>\n",
       "    </tr>\n",
       "    <tr>\n",
       "      <th>parking</th>\n",
       "      <td>0.154639</td>\n",
       "      <td>0.156029</td>\n",
       "      <td>0.094320</td>\n",
       "      <td>0.163187</td>\n",
       "      <td>1.000000</td>\n",
       "      <td>0.191533</td>\n",
       "      <td>0.184696</td>\n",
       "      <td>0.115383</td>\n",
       "      <td>-0.034184</td>\n",
       "      <td>0.087230</td>\n",
       "    </tr>\n",
       "    <tr>\n",
       "      <th>power_backup</th>\n",
       "      <td>0.067761</td>\n",
       "      <td>0.052098</td>\n",
       "      <td>0.032580</td>\n",
       "      <td>0.294858</td>\n",
       "      <td>0.191533</td>\n",
       "      <td>1.000000</td>\n",
       "      <td>0.132576</td>\n",
       "      <td>0.082343</td>\n",
       "      <td>-0.001203</td>\n",
       "      <td>0.058359</td>\n",
       "    </tr>\n",
       "    <tr>\n",
       "      <th>bldg_age</th>\n",
       "      <td>0.051706</td>\n",
       "      <td>0.051207</td>\n",
       "      <td>0.059036</td>\n",
       "      <td>0.160317</td>\n",
       "      <td>0.184696</td>\n",
       "      <td>0.132576</td>\n",
       "      <td>1.000000</td>\n",
       "      <td>-0.066811</td>\n",
       "      <td>-0.151459</td>\n",
       "      <td>-0.107461</td>\n",
       "    </tr>\n",
       "    <tr>\n",
       "      <th>furnishing</th>\n",
       "      <td>0.088748</td>\n",
       "      <td>0.079967</td>\n",
       "      <td>0.068755</td>\n",
       "      <td>0.081781</td>\n",
       "      <td>0.115383</td>\n",
       "      <td>0.082343</td>\n",
       "      <td>-0.066811</td>\n",
       "      <td>1.000000</td>\n",
       "      <td>0.010343</td>\n",
       "      <td>0.137742</td>\n",
       "    </tr>\n",
       "    <tr>\n",
       "      <th>transit_score</th>\n",
       "      <td>-0.044733</td>\n",
       "      <td>-0.089845</td>\n",
       "      <td>-0.028692</td>\n",
       "      <td>-0.059342</td>\n",
       "      <td>-0.034184</td>\n",
       "      <td>-0.001203</td>\n",
       "      <td>-0.151459</td>\n",
       "      <td>0.010343</td>\n",
       "      <td>1.000000</td>\n",
       "      <td>0.084283</td>\n",
       "    </tr>\n",
       "    <tr>\n",
       "      <th>final_price</th>\n",
       "      <td>0.561712</td>\n",
       "      <td>0.406335</td>\n",
       "      <td>0.420357</td>\n",
       "      <td>0.079288</td>\n",
       "      <td>0.087230</td>\n",
       "      <td>0.058359</td>\n",
       "      <td>-0.107461</td>\n",
       "      <td>0.137742</td>\n",
       "      <td>0.084283</td>\n",
       "      <td>1.000000</td>\n",
       "    </tr>\n",
       "  </tbody>\n",
       "</table>\n",
       "</div>"
      ],
      "text/plain": [
       "                   area  bedrooms  bathroom   balcony   parking  power_backup  \\\n",
       "area           1.000000  0.706702  0.742832  0.272279  0.154639      0.067761   \n",
       "bedrooms       0.706702  1.000000  0.589935  0.243433  0.156029      0.052098   \n",
       "bathroom       0.742832  0.589935  1.000000  0.278612  0.094320      0.032580   \n",
       "balcony        0.272279  0.243433  0.278612  1.000000  0.163187      0.294858   \n",
       "parking        0.154639  0.156029  0.094320  0.163187  1.000000      0.191533   \n",
       "power_backup   0.067761  0.052098  0.032580  0.294858  0.191533      1.000000   \n",
       "bldg_age       0.051706  0.051207  0.059036  0.160317  0.184696      0.132576   \n",
       "furnishing     0.088748  0.079967  0.068755  0.081781  0.115383      0.082343   \n",
       "transit_score -0.044733 -0.089845 -0.028692 -0.059342 -0.034184     -0.001203   \n",
       "final_price    0.561712  0.406335  0.420357  0.079288  0.087230      0.058359   \n",
       "\n",
       "               bldg_age  furnishing  transit_score  final_price  \n",
       "area           0.051706    0.088748      -0.044733     0.561712  \n",
       "bedrooms       0.051207    0.079967      -0.089845     0.406335  \n",
       "bathroom       0.059036    0.068755      -0.028692     0.420357  \n",
       "balcony        0.160317    0.081781      -0.059342     0.079288  \n",
       "parking        0.184696    0.115383      -0.034184     0.087230  \n",
       "power_backup   0.132576    0.082343      -0.001203     0.058359  \n",
       "bldg_age       1.000000   -0.066811      -0.151459    -0.107461  \n",
       "furnishing    -0.066811    1.000000       0.010343     0.137742  \n",
       "transit_score -0.151459    0.010343       1.000000     0.084283  \n",
       "final_price   -0.107461    0.137742       0.084283     1.000000  "
      ]
     },
     "execution_count": 32,
     "metadata": {},
     "output_type": "execute_result"
    }
   ],
   "source": [
    "df1.corr()"
   ]
  },
  {
   "cell_type": "code",
   "execution_count": 33,
   "metadata": {},
   "outputs": [
    {
     "data": {
      "image/png": "[encoded data removed]",
      "text/plain": [
       "<Figure size 1080x720 with 2 Axes>"
      ]
     },
     "metadata": {
      "needs_background": "light"
     },
     "output_type": "display_data"
    }
   ],
   "source": [
    "fig, ax = plt.subplots(figsize=(15, 10))\n",
    "corr = df1.corr()\n",
    "sns.heatmap(corr,square=True, ax=ax,cmap= 'coolwarm', linewidths=0.50, linecolor='black')\n",
    "plt.show()"
   ]
  },
  {
   "cell_type": "code",
   "execution_count": 34,
   "metadata": {},
   "outputs": [],
   "source": [
    "#### Checking for skewness"
   ]
  },
  {
   "cell_type": "code",
   "execution_count": 35,
   "metadata": {},
   "outputs": [
    {
     "data": {
      "image/png": "[encoded data removed]",
      "text/plain": [
       "<Figure size 432x288 with 1 Axes>"
      ]
     },
     "metadata": {
      "needs_background": "light"
     },
     "output_type": "display_data"
    },
    {
     "data": {
      "text/plain": [
       "3.903914425734214"
      ]
     },
     "execution_count": 35,
     "metadata": {},
     "output_type": "execute_result"
    }
   ],
   "source": [
    "# area\n",
    "\n",
    "df2.area.plot(kind= 'density')\n",
    "plt.show()\n",
    "\n",
    "df2.area.skew()"
   ]
  },
  {
   "cell_type": "code",
   "execution_count": 36,
   "metadata": {},
   "outputs": [
    {
     "data": {
      "text/plain": [
       "0.09550556767891387"
      ]
     },
     "execution_count": 36,
     "metadata": {},
     "output_type": "execute_result"
    }
   ],
   "source": [
    "log_area= np.log(df2['area'])\n",
    "log_area.skew()"
   ]
  },
  {
   "cell_type": "code",
   "execution_count": 37,
   "metadata": {},
   "outputs": [],
   "source": [
    "df2= df2.drop('area', axis= 1)\n",
    "df2['area']= log_area"
   ]
  },
  {
   "cell_type": "code",
   "execution_count": 38,
   "metadata": {},
   "outputs": [
    {
     "data": {
      "image/png": "[encoded data removed]",
      "text/plain": [
       "<Figure size 432x288 with 1 Axes>"
      ]
     },
     "metadata": {
      "needs_background": "light"
     },
     "output_type": "display_data"
    },
    {
     "data": {
      "text/plain": [
       "6.182675993660566"
      ]
     },
     "execution_count": 38,
     "metadata": {},
     "output_type": "execute_result"
    }
   ],
   "source": [
    "# final_price\n",
    "\n",
    "df2.final_price.plot(kind= 'density')\n",
    "plt.show()\n",
    "\n",
    "df2.final_price.skew()"
   ]
  },
  {
   "cell_type": "code",
   "execution_count": 39,
   "metadata": {},
   "outputs": [
    {
     "data": {
      "text/plain": [
       "0.37862766337348364"
      ]
     },
     "execution_count": 39,
     "metadata": {},
     "output_type": "execute_result"
    }
   ],
   "source": [
    "log_price= np.log(df2['final_price'])\n",
    "log_price.skew()"
   ]
  },
  {
   "cell_type": "code",
   "execution_count": 40,
   "metadata": {},
   "outputs": [],
   "source": [
    "df2= df2.drop('final_price', axis= 1)\n",
    "df2['price']= log_price"
   ]
  },
  {
   "cell_type": "code",
   "execution_count": 41,
   "metadata": {},
   "outputs": [],
   "source": [
    "# Visualization"
   ]
  },
  {
   "cell_type": "code",
   "execution_count": 93,
   "metadata": {},
   "outputs": [
    {
     "data": {
      "image/png": "[encoded data removed]",
      "text/plain": [
       "<Figure size 1080x864 with 16 Axes>"
      ]
     },
     "metadata": {
      "needs_background": "light"
     },
     "output_type": "display_data"
    }
   ],
   "source": [
    "df1.plot(kind='density', subplots=True, layout=(4,4), sharex=False, legend=True, fontsize=1, figsize=(15,12))\n",
    "plt.show()"
   ]
  },
  {
   "cell_type": "code",
   "execution_count": 94,
   "metadata": {},
   "outputs": [
    {
     "data": {
      "text/html": [
       "<div>\n",
       "<style scoped>\n",
       "    .dataframe tbody tr th:only-of-type {\n",
       "        vertical-align: middle;\n",
       "    }\n",
       "\n",
       "    .dataframe tbody tr th {\n",
       "        vertical-align: top;\n",
       "    }\n",
       "\n",
       "    .dataframe thead th {\n",
       "        text-align: right;\n",
       "    }\n",
       "</style>\n",
       "<table border=\"1\" class=\"dataframe\">\n",
       "  <thead>\n",
       "    <tr style=\"text-align: right;\">\n",
       "      <th></th>\n",
       "      <th>bedrooms</th>\n",
       "      <th>bathroom</th>\n",
       "      <th>balcony</th>\n",
       "      <th>parking</th>\n",
       "      <th>power_backup</th>\n",
       "      <th>bldg_age</th>\n",
       "      <th>furnishing</th>\n",
       "      <th>transit_score</th>\n",
       "      <th>Cement</th>\n",
       "      <th>Tiles</th>\n",
       "      <th>...</th>\n",
       "      <th>Delhi</th>\n",
       "      <th>Faridabad</th>\n",
       "      <th>Ghaziabad</th>\n",
       "      <th>Gurgaon</th>\n",
       "      <th>Hyderabad</th>\n",
       "      <th>Mumbai</th>\n",
       "      <th>Noida</th>\n",
       "      <th>Pune</th>\n",
       "      <th>area</th>\n",
       "      <th>price</th>\n",
       "    </tr>\n",
       "  </thead>\n",
       "  <tbody>\n",
       "    <tr>\n",
       "      <th>0</th>\n",
       "      <td>2</td>\n",
       "      <td>2</td>\n",
       "      <td>0.0</td>\n",
       "      <td>3</td>\n",
       "      <td>0</td>\n",
       "      <td>2</td>\n",
       "      <td>1</td>\n",
       "      <td>5.3</td>\n",
       "      <td>0</td>\n",
       "      <td>1</td>\n",
       "      <td>...</td>\n",
       "      <td>0</td>\n",
       "      <td>0</td>\n",
       "      <td>0</td>\n",
       "      <td>0</td>\n",
       "      <td>0</td>\n",
       "      <td>0</td>\n",
       "      <td>0</td>\n",
       "      <td>0</td>\n",
       "      <td>6.396930</td>\n",
       "      <td>15.424948</td>\n",
       "    </tr>\n",
       "    <tr>\n",
       "      <th>1</th>\n",
       "      <td>3</td>\n",
       "      <td>3</td>\n",
       "      <td>2.0</td>\n",
       "      <td>3</td>\n",
       "      <td>1</td>\n",
       "      <td>2</td>\n",
       "      <td>0</td>\n",
       "      <td>7.6</td>\n",
       "      <td>0</td>\n",
       "      <td>1</td>\n",
       "      <td>...</td>\n",
       "      <td>0</td>\n",
       "      <td>0</td>\n",
       "      <td>0</td>\n",
       "      <td>0</td>\n",
       "      <td>0</td>\n",
       "      <td>0</td>\n",
       "      <td>0</td>\n",
       "      <td>0</td>\n",
       "      <td>7.649693</td>\n",
       "      <td>17.776324</td>\n",
       "    </tr>\n",
       "    <tr>\n",
       "      <th>2</th>\n",
       "      <td>2</td>\n",
       "      <td>2</td>\n",
       "      <td>0.0</td>\n",
       "      <td>1</td>\n",
       "      <td>0</td>\n",
       "      <td>4</td>\n",
       "      <td>1</td>\n",
       "      <td>5.3</td>\n",
       "      <td>0</td>\n",
       "      <td>1</td>\n",
       "      <td>...</td>\n",
       "      <td>0</td>\n",
       "      <td>0</td>\n",
       "      <td>0</td>\n",
       "      <td>0</td>\n",
       "      <td>0</td>\n",
       "      <td>0</td>\n",
       "      <td>0</td>\n",
       "      <td>0</td>\n",
       "      <td>6.715383</td>\n",
       "      <td>15.150512</td>\n",
       "    </tr>\n",
       "    <tr>\n",
       "      <th>3</th>\n",
       "      <td>2</td>\n",
       "      <td>2</td>\n",
       "      <td>0.0</td>\n",
       "      <td>3</td>\n",
       "      <td>0</td>\n",
       "      <td>2</td>\n",
       "      <td>1</td>\n",
       "      <td>2.3</td>\n",
       "      <td>0</td>\n",
       "      <td>1</td>\n",
       "      <td>...</td>\n",
       "      <td>0</td>\n",
       "      <td>0</td>\n",
       "      <td>0</td>\n",
       "      <td>0</td>\n",
       "      <td>0</td>\n",
       "      <td>0</td>\n",
       "      <td>0</td>\n",
       "      <td>0</td>\n",
       "      <td>7.134891</td>\n",
       "      <td>16.012735</td>\n",
       "    </tr>\n",
       "    <tr>\n",
       "      <th>4</th>\n",
       "      <td>3</td>\n",
       "      <td>3</td>\n",
       "      <td>0.0</td>\n",
       "      <td>3</td>\n",
       "      <td>0</td>\n",
       "      <td>2</td>\n",
       "      <td>1</td>\n",
       "      <td>5.3</td>\n",
       "      <td>0</td>\n",
       "      <td>1</td>\n",
       "      <td>...</td>\n",
       "      <td>0</td>\n",
       "      <td>0</td>\n",
       "      <td>0</td>\n",
       "      <td>0</td>\n",
       "      <td>0</td>\n",
       "      <td>0</td>\n",
       "      <td>0</td>\n",
       "      <td>0</td>\n",
       "      <td>7.438384</td>\n",
       "      <td>16.380460</td>\n",
       "    </tr>\n",
       "    <tr>\n",
       "      <th>...</th>\n",
       "      <td>...</td>\n",
       "      <td>...</td>\n",
       "      <td>...</td>\n",
       "      <td>...</td>\n",
       "      <td>...</td>\n",
       "      <td>...</td>\n",
       "      <td>...</td>\n",
       "      <td>...</td>\n",
       "      <td>...</td>\n",
       "      <td>...</td>\n",
       "      <td>...</td>\n",
       "      <td>...</td>\n",
       "      <td>...</td>\n",
       "      <td>...</td>\n",
       "      <td>...</td>\n",
       "      <td>...</td>\n",
       "      <td>...</td>\n",
       "      <td>...</td>\n",
       "      <td>...</td>\n",
       "      <td>...</td>\n",
       "      <td>...</td>\n",
       "    </tr>\n",
       "    <tr>\n",
       "      <th>10066</th>\n",
       "      <td>2</td>\n",
       "      <td>2</td>\n",
       "      <td>0.0</td>\n",
       "      <td>3</td>\n",
       "      <td>0</td>\n",
       "      <td>6</td>\n",
       "      <td>0</td>\n",
       "      <td>8.5</td>\n",
       "      <td>0</td>\n",
       "      <td>1</td>\n",
       "      <td>...</td>\n",
       "      <td>0</td>\n",
       "      <td>0</td>\n",
       "      <td>0</td>\n",
       "      <td>0</td>\n",
       "      <td>0</td>\n",
       "      <td>0</td>\n",
       "      <td>0</td>\n",
       "      <td>1</td>\n",
       "      <td>6.791221</td>\n",
       "      <td>15.201805</td>\n",
       "    </tr>\n",
       "    <tr>\n",
       "      <th>10067</th>\n",
       "      <td>2</td>\n",
       "      <td>2</td>\n",
       "      <td>1.0</td>\n",
       "      <td>3</td>\n",
       "      <td>2</td>\n",
       "      <td>3</td>\n",
       "      <td>1</td>\n",
       "      <td>8.0</td>\n",
       "      <td>0</td>\n",
       "      <td>1</td>\n",
       "      <td>...</td>\n",
       "      <td>0</td>\n",
       "      <td>0</td>\n",
       "      <td>0</td>\n",
       "      <td>0</td>\n",
       "      <td>0</td>\n",
       "      <td>0</td>\n",
       "      <td>0</td>\n",
       "      <td>1</td>\n",
       "      <td>6.907755</td>\n",
       "      <td>15.520259</td>\n",
       "    </tr>\n",
       "    <tr>\n",
       "      <th>10068</th>\n",
       "      <td>1</td>\n",
       "      <td>1</td>\n",
       "      <td>1.0</td>\n",
       "      <td>3</td>\n",
       "      <td>0</td>\n",
       "      <td>2</td>\n",
       "      <td>1</td>\n",
       "      <td>8.7</td>\n",
       "      <td>0</td>\n",
       "      <td>1</td>\n",
       "      <td>...</td>\n",
       "      <td>0</td>\n",
       "      <td>0</td>\n",
       "      <td>0</td>\n",
       "      <td>0</td>\n",
       "      <td>0</td>\n",
       "      <td>0</td>\n",
       "      <td>0</td>\n",
       "      <td>1</td>\n",
       "      <td>6.272877</td>\n",
       "      <td>14.946913</td>\n",
       "    </tr>\n",
       "    <tr>\n",
       "      <th>10069</th>\n",
       "      <td>2</td>\n",
       "      <td>2</td>\n",
       "      <td>0.0</td>\n",
       "      <td>3</td>\n",
       "      <td>2</td>\n",
       "      <td>2</td>\n",
       "      <td>1</td>\n",
       "      <td>6.4</td>\n",
       "      <td>0</td>\n",
       "      <td>1</td>\n",
       "      <td>...</td>\n",
       "      <td>0</td>\n",
       "      <td>0</td>\n",
       "      <td>0</td>\n",
       "      <td>0</td>\n",
       "      <td>0</td>\n",
       "      <td>0</td>\n",
       "      <td>0</td>\n",
       "      <td>1</td>\n",
       "      <td>6.907755</td>\n",
       "      <td>15.907375</td>\n",
       "    </tr>\n",
       "    <tr>\n",
       "      <th>10070</th>\n",
       "      <td>2</td>\n",
       "      <td>2</td>\n",
       "      <td>0.0</td>\n",
       "      <td>3</td>\n",
       "      <td>0</td>\n",
       "      <td>3</td>\n",
       "      <td>2</td>\n",
       "      <td>5.5</td>\n",
       "      <td>0</td>\n",
       "      <td>1</td>\n",
       "      <td>...</td>\n",
       "      <td>0</td>\n",
       "      <td>0</td>\n",
       "      <td>0</td>\n",
       "      <td>0</td>\n",
       "      <td>0</td>\n",
       "      <td>0</td>\n",
       "      <td>0</td>\n",
       "      <td>1</td>\n",
       "      <td>6.745236</td>\n",
       "      <td>15.955577</td>\n",
       "    </tr>\n",
       "  </tbody>\n",
       "</table>\n",
       "<p>10070 rows × 28 columns</p>\n",
       "</div>"
      ],
      "text/plain": [
       "       bedrooms  bathroom  balcony  parking  power_backup  bldg_age  \\\n",
       "0             2         2      0.0        3             0         2   \n",
       "1             3         3      2.0        3             1         2   \n",
       "2             2         2      0.0        1             0         4   \n",
       "3             2         2      0.0        3             0         2   \n",
       "4             3         3      0.0        3             0         2   \n",
       "...         ...       ...      ...      ...           ...       ...   \n",
       "10066         2         2      0.0        3             0         6   \n",
       "10067         2         2      1.0        3             2         3   \n",
       "10068         1         1      1.0        3             0         2   \n",
       "10069         2         2      0.0        3             2         2   \n",
       "10070         2         2      0.0        3             0         3   \n",
       "\n",
       "       furnishing  transit_score  Cement  Tiles  ...  Delhi  Faridabad  \\\n",
       "0               1            5.3       0      1  ...      0          0   \n",
       "1               0            7.6       0      1  ...      0          0   \n",
       "2               1            5.3       0      1  ...      0          0   \n",
       "3               1            2.3       0      1  ...      0          0   \n",
       "4               1            5.3       0      1  ...      0          0   \n",
       "...           ...            ...     ...    ...  ...    ...        ...   \n",
       "10066           0            8.5       0      1  ...      0          0   \n",
       "10067           1            8.0       0      1  ...      0          0   \n",
       "10068           1            8.7       0      1  ...      0          0   \n",
       "10069           1            6.4       0      1  ...      0          0   \n",
       "10070           2            5.5       0      1  ...      0          0   \n",
       "\n",
       "       Ghaziabad  Gurgaon  Hyderabad  Mumbai  Noida  Pune      area      price  \n",
       "0              0        0          0       0      0     0  6.396930  15.424948  \n",
       "1              0        0          0       0      0     0  7.649693  17.776324  \n",
       "2              0        0          0       0      0     0  6.715383  15.150512  \n",
       "3              0        0          0       0      0     0  7.134891  16.012735  \n",
       "4              0        0          0       0      0     0  7.438384  16.380460  \n",
       "...          ...      ...        ...     ...    ...   ...       ...        ...  \n",
       "10066          0        0          0       0      0     1  6.791221  15.201805  \n",
       "10067          0        0          0       0      0     1  6.907755  15.520259  \n",
       "10068          0        0          0       0      0     1  6.272877  14.946913  \n",
       "10069          0        0          0       0      0     1  6.907755  15.907375  \n",
       "10070          0        0          0       0      0     1  6.745236  15.955577  \n",
       "\n",
       "[10070 rows x 28 columns]"
      ]
     },
     "execution_count": 94,
     "metadata": {},
     "output_type": "execute_result"
    }
   ],
   "source": [
    "df2"
   ]
  },
  {
   "cell_type": "markdown",
   "metadata": {},
   "source": [
    "#### Scaling"
   ]
  },
  {
   "cell_type": "code",
   "execution_count": 42,
   "metadata": {},
   "outputs": [],
   "source": [
    "X= df2.drop('price', axis= 1)\n",
    "y= df2.price"
   ]
  },
  {
   "cell_type": "code",
   "execution_count": 96,
   "metadata": {},
   "outputs": [],
   "source": [
    "# Scaling"
   ]
  },
  {
   "cell_type": "code",
   "execution_count": 97,
   "metadata": {},
   "outputs": [],
   "source": [
    "from sklearn.preprocessing import StandardScaler"
   ]
  },
  {
   "cell_type": "code",
   "execution_count": 98,
   "metadata": {},
   "outputs": [],
   "source": [
    "scaler= StandardScaler()"
   ]
  },
  {
   "cell_type": "code",
   "execution_count": 99,
   "metadata": {},
   "outputs": [],
   "source": [
    "X_tf= scaler.fit_transform(X)"
   ]
  },
  {
   "cell_type": "markdown",
   "metadata": {},
   "source": [
    "#### Train test split"
   ]
  },
  {
   "cell_type": "code",
   "execution_count": 43,
   "metadata": {},
   "outputs": [],
   "source": [
    "from sklearn.model_selection import train_test_split"
   ]
  },
  {
   "cell_type": "code",
   "execution_count": 101,
   "metadata": {},
   "outputs": [],
   "source": [
    "X_train, X_test, y_train, y_test= train_test_split(X_tf, y, test_size= 0.2, random_state= 10)"
   ]
  },
  {
   "cell_type": "markdown",
   "metadata": {},
   "source": [
    "#### Model 1 Linear Regression"
   ]
  },
  {
   "cell_type": "code",
   "execution_count": 102,
   "metadata": {},
   "outputs": [],
   "source": [
    "from sklearn.linear_model import LinearRegression"
   ]
  },
  {
   "cell_type": "code",
   "execution_count": 44,
   "metadata": {},
   "outputs": [],
   "source": [
    "from sklearn.metrics import mean_squared_error, r2_score"
   ]
  },
  {
   "cell_type": "code",
   "execution_count": 104,
   "metadata": {},
   "outputs": [],
   "source": [
    "model_1= LinearRegression()"
   ]
  },
  {
   "cell_type": "code",
   "execution_count": 105,
   "metadata": {},
   "outputs": [],
   "source": [
    "model_1= model_1.fit(X_train, y_train)"
   ]
  },
  {
   "cell_type": "code",
   "execution_count": 106,
   "metadata": {},
   "outputs": [],
   "source": [
    "train_pred1= model_1.predict(X_train)\n",
    "test_pred1= model_1.predict(X_test)"
   ]
  },
  {
   "cell_type": "code",
   "execution_count": 107,
   "metadata": {},
   "outputs": [
    {
     "name": "stdout",
     "output_type": "stream",
     "text": [
      "RMSE on train : 0.4635274134241034\n",
      "RMSE on test : 0.47089097081896375\n"
     ]
    }
   ],
   "source": [
    "rmse_train1= np.sqrt(mean_squared_error(y_train, train_pred1))\n",
    "rmse_test1= np.sqrt(mean_squared_error(y_test, test_pred1))\n",
    "\n",
    "print('RMSE on train :', rmse_train1)\n",
    "print('RMSE on test :', rmse_test1)"
   ]
  },
  {
   "cell_type": "code",
   "execution_count": 108,
   "metadata": {},
   "outputs": [
    {
     "name": "stdout",
     "output_type": "stream",
     "text": [
      "R2 on train : 0.6790747350881391\n",
      "R2 on test : 0.6846623834885501\n"
     ]
    }
   ],
   "source": [
    "r2_train1= model_1.score(X_train, y_train)\n",
    "r2_test1= model_1.score(X_test, y_test)\n",
    "\n",
    "print('R2 on train :', r2_train1)\n",
    "print('R2 on test :', r2_test1)"
   ]
  },
  {
   "cell_type": "markdown",
   "metadata": {},
   "source": [
    "#### Model 2 LASSO Regression"
   ]
  },
  {
   "cell_type": "code",
   "execution_count": 109,
   "metadata": {},
   "outputs": [],
   "source": [
    "from sklearn.linear_model import Lasso"
   ]
  },
  {
   "cell_type": "code",
   "execution_count": 110,
   "metadata": {},
   "outputs": [],
   "source": [
    "from sklearn.linear_model import LassoCV"
   ]
  },
  {
   "cell_type": "code",
   "execution_count": 111,
   "metadata": {
    "scrolled": true
   },
   "outputs": [
    {
     "data": {
      "text/plain": [
       "0.0011"
      ]
     },
     "execution_count": 111,
     "metadata": {},
     "output_type": "execute_result"
    }
   ],
   "source": [
    "import numpy as np\n",
    "model = LassoCV(alphas = np.arange(0.0001, 1, 0.001) )\n",
    "model.fit(X_train, y_train)\n",
    "model.alpha_"
   ]
  },
  {
   "cell_type": "code",
   "execution_count": 112,
   "metadata": {},
   "outputs": [],
   "source": [
    "lasso = Lasso(alpha=0.0011)\n",
    "model_2 = lasso.fit(X_train, y_train)"
   ]
  },
  {
   "cell_type": "code",
   "execution_count": 113,
   "metadata": {},
   "outputs": [],
   "source": [
    "train_pred2= model_2.predict(X_train)\n",
    "test_pred2= model_2.predict(X_test)"
   ]
  },
  {
   "cell_type": "code",
   "execution_count": 114,
   "metadata": {},
   "outputs": [
    {
     "name": "stdout",
     "output_type": "stream",
     "text": [
      "RMSE on train : 0.4635419800059743\n",
      "RMSE on test : 0.4709435637333043\n"
     ]
    }
   ],
   "source": [
    "rmse_train2= np.sqrt(mean_squared_error(y_train, train_pred2))\n",
    "rmse_test2= np.sqrt(mean_squared_error(y_test, test_pred2))\n",
    "\n",
    "print('RMSE on train :', rmse_train2)\n",
    "print('RMSE on test :', rmse_test2)"
   ]
  },
  {
   "cell_type": "code",
   "execution_count": 115,
   "metadata": {},
   "outputs": [
    {
     "name": "stdout",
     "output_type": "stream",
     "text": [
      "R2 on train : 0.6790545642958015\n",
      "R2 on test : 0.6845919406411468\n"
     ]
    }
   ],
   "source": [
    "r2_train2= model_2.score(X_train, y_train)\n",
    "r2_test2= model_2.score(X_test, y_test)\n",
    "\n",
    "print('R2 on train :', r2_train2)\n",
    "print('R2 on test :', r2_test2)"
   ]
  },
  {
   "cell_type": "markdown",
   "metadata": {},
   "source": [
    "#### Model 3 KNN"
   ]
  },
  {
   "cell_type": "code",
   "execution_count": 86,
   "metadata": {},
   "outputs": [],
   "source": [
    "from sklearn.neighbors import KNeighborsRegressor"
   ]
  },
  {
   "cell_type": "code",
   "execution_count": 88,
   "metadata": {},
   "outputs": [
    {
     "data": {
      "text/plain": [
       "KNeighborsRegressor()"
      ]
     },
     "execution_count": 88,
     "metadata": {},
     "output_type": "execute_result"
    }
   ],
   "source": [
    "model_3= KNeighborsRegressor()\n",
    "model_3.fit(X_train, y_train)"
   ]
  },
  {
   "cell_type": "code",
   "execution_count": 89,
   "metadata": {},
   "outputs": [],
   "source": [
    "train_pred3= model_3.predict(X_train)\n",
    "test_pred3= model_3.predict(X_test)"
   ]
  },
  {
   "cell_type": "code",
   "execution_count": 90,
   "metadata": {},
   "outputs": [
    {
     "name": "stdout",
     "output_type": "stream",
     "text": [
      "RMSE on train : 0.42377621481804967\n",
      "RMSE on test : 0.5398446401643312\n"
     ]
    }
   ],
   "source": [
    "rmse_train3= np.sqrt(mean_squared_error(y_train, train_pred3))\n",
    "rmse_test3= np.sqrt(mean_squared_error(y_test, test_pred3))\n",
    "\n",
    "print('RMSE on train :', rmse_train3)\n",
    "print('RMSE on test :', rmse_test3)"
   ]
  },
  {
   "cell_type": "code",
   "execution_count": 91,
   "metadata": {},
   "outputs": [
    {
     "name": "stdout",
     "output_type": "stream",
     "text": [
      "R2 on train : 0.7317583475554381\n",
      "R2 on test : 0.5855495245086617\n"
     ]
    }
   ],
   "source": [
    "r2_train3= model_3.score(X_train, y_train)\n",
    "r2_test3= model_3.score(X_test, y_test)\n",
    "\n",
    "print('R2 on train :', r2_train3)\n",
    "print('R2 on test :', r2_test3)"
   ]
  },
  {
   "cell_type": "code",
   "execution_count": 92,
   "metadata": {},
   "outputs": [],
   "source": [
    "# hyperparameter tuning"
   ]
  },
  {
   "cell_type": "code",
   "execution_count": 97,
   "metadata": {},
   "outputs": [
    {
     "name": "stdout",
     "output_type": "stream",
     "text": [
      "10 0.6031279631427531\n",
      "1 0.9533267130089375\n"
     ]
    }
   ],
   "source": [
    "print(max(score, key=score.get), max(score.values()))\n",
    "print(min(error, key=error.get), min(error.values()))"
   ]
  },
  {
   "cell_type": "code",
   "execution_count": 99,
   "metadata": {},
   "outputs": [
    {
     "data": {
      "text/plain": [
       "{'n_neighbors': 8}"
      ]
     },
     "execution_count": 99,
     "metadata": {},
     "output_type": "execute_result"
    }
   ],
   "source": [
    "from sklearn.model_selection import GridSearchCV\n",
    "params = {'n_neighbors':range(1,50)}\n",
    "\n",
    "knn = KNeighborsRegressor()\n",
    "\n",
    "model = GridSearchCV(knn, params, cv=5)\n",
    "model.fit(X_train, y_train)\n",
    "model.best_params_"
   ]
  },
  {
   "cell_type": "code",
   "execution_count": 100,
   "metadata": {},
   "outputs": [
    {
     "data": {
      "text/plain": [
       "KNeighborsRegressor(n_neighbors=8)"
      ]
     },
     "execution_count": 100,
     "metadata": {},
     "output_type": "execute_result"
    }
   ],
   "source": [
    "model_31= KNeighborsRegressor(n_neighbors= 8)\n",
    "model_31.fit(X_train, y_train)"
   ]
  },
  {
   "cell_type": "code",
   "execution_count": 101,
   "metadata": {},
   "outputs": [],
   "source": [
    "train_pred31= model_31.predict(X_train)\n",
    "test_pred31= model_31.predict(X_test)"
   ]
  },
  {
   "cell_type": "code",
   "execution_count": 102,
   "metadata": {},
   "outputs": [
    {
     "name": "stdout",
     "output_type": "stream",
     "text": [
      "RMSE on train : 0.45448547210688656\n",
      "RMSE on test : 0.5290946135850886\n"
     ]
    }
   ],
   "source": [
    "rmse_train31= np.sqrt(mean_squared_error(y_train, train_pred31))\n",
    "rmse_test31= np.sqrt(mean_squared_error(y_test, test_pred31))\n",
    "\n",
    "print('RMSE on train :', rmse_train31)\n",
    "print('RMSE on test :', rmse_test31)"
   ]
  },
  {
   "cell_type": "code",
   "execution_count": 103,
   "metadata": {},
   "outputs": [
    {
     "name": "stdout",
     "output_type": "stream",
     "text": [
      "R2 on train : 0.6914730745220103\n",
      "R2 on test : 0.6018912389836102\n"
     ]
    }
   ],
   "source": [
    "r2_train31= model_31.score(X_train, y_train)\n",
    "r2_test31= model_31.score(X_test, y_test)\n",
    "\n",
    "print('R2 on train :', r2_train31)\n",
    "print('R2 on test :', r2_test31)"
   ]
  },
  {
   "cell_type": "markdown",
   "metadata": {},
   "source": [
    "#### Model 3 Random Forest"
   ]
  },
  {
   "cell_type": "code",
   "execution_count": 45,
   "metadata": {},
   "outputs": [],
   "source": [
    "X_train, X_test, y_train, y_test= train_test_split(X, y, test_size= 0.2, random_state= 10)"
   ]
  },
  {
   "cell_type": "code",
   "execution_count": 46,
   "metadata": {},
   "outputs": [],
   "source": [
    "from sklearn.ensemble import RandomForestRegressor"
   ]
  },
  {
   "cell_type": "code",
   "execution_count": 43,
   "metadata": {},
   "outputs": [
    {
     "data": {
      "text/plain": [
       "RandomForestRegressor()"
      ]
     },
     "execution_count": 43,
     "metadata": {},
     "output_type": "execute_result"
    }
   ],
   "source": [
    "model_4= RandomForestRegressor()\n",
    "model_4.fit(X_train, y_train)"
   ]
  },
  {
   "cell_type": "code",
   "execution_count": 44,
   "metadata": {},
   "outputs": [],
   "source": [
    "train_pred4= model_4.predict(X_train)\n",
    "test_pred4= model_4.predict(X_test)"
   ]
  },
  {
   "cell_type": "code",
   "execution_count": 47,
   "metadata": {},
   "outputs": [
    {
     "name": "stdout",
     "output_type": "stream",
     "text": [
      "RMSE on train : 0.16708320736193918\n",
      "RMSE on test : 0.4519013769381585\n"
     ]
    }
   ],
   "source": [
    "rmse_train4= np.sqrt(mean_squared_error(y_train, train_pred4))\n",
    "rmse_test4= np.sqrt(mean_squared_error(y_test, test_pred4))\n",
    "\n",
    "print('RMSE on train :', rmse_train4)\n",
    "print('RMSE on test :', rmse_test4)"
   ]
  },
  {
   "cell_type": "code",
   "execution_count": 48,
   "metadata": {},
   "outputs": [
    {
     "name": "stdout",
     "output_type": "stream",
     "text": [
      "R2 on train : 0.9583016694529329\n",
      "R2 on test : 0.7095827666705027\n"
     ]
    }
   ],
   "source": [
    "r2_train4= model_4.score(X_train, y_train)\n",
    "r2_test4= model_4.score(X_test, y_test)\n",
    "\n",
    "print('R2 on train :', r2_train4)\n",
    "print('R2 on test :', r2_test4)"
   ]
  },
  {
   "cell_type": "code",
   "execution_count": 49,
   "metadata": {},
   "outputs": [
    {
     "data": {
      "text/plain": [
       "array([0.01528193, 0.02627423, 0.01974953, 0.02109598, 0.008365  ,\n",
       "       0.03182394, 0.01848165, 0.07772436, 0.00238529, 0.00208341,\n",
       "       0.00090818, 0.00844776, 0.0073389 , 0.00648885, 0.00667372,\n",
       "       0.00616717, 0.00428056, 0.00283891, 0.00949682, 0.01461265,\n",
       "       0.01084324, 0.0027565 , 0.0052804 , 0.12401473, 0.01904422,\n",
       "       0.00213509, 0.54540697])"
      ]
     },
     "execution_count": 49,
     "metadata": {},
     "output_type": "execute_result"
    }
   ],
   "source": [
    "model_4.feature_importances_"
   ]
  },
  {
   "cell_type": "code",
   "execution_count": 50,
   "metadata": {},
   "outputs": [],
   "source": [
    "X_feature_names= df2.columns"
   ]
  },
  {
   "cell_type": "code",
   "execution_count": 51,
   "metadata": {},
   "outputs": [
    {
     "data": {
      "image/png": "[encoded data removed]",
      "text/plain": [
       "<Figure size 720x360 with 1 Axes>"
      ]
     },
     "metadata": {
      "needs_background": "light"
     },
     "output_type": "display_data"
    }
   ],
   "source": [
    "fig, ax = plt.subplots(figsize=(10,5))\n",
    "bar_rects = ax.bar(np.arange(27), model_4.feature_importances_, color='r', align='center')\n",
    "ax.xaxis.set_ticks(np.arange(27))\n",
    "ax.set_xticklabels(X_feature_names, rotation='vertical')\n",
    "plt.show()"
   ]
  },
  {
   "cell_type": "code",
   "execution_count": 129,
   "metadata": {},
   "outputs": [],
   "source": [
    "# hyperparameter tuning"
   ]
  },
  {
   "cell_type": "code",
   "execution_count": 47,
   "metadata": {},
   "outputs": [],
   "source": [
    "from sklearn.model_selection import RandomizedSearchCV"
   ]
  },
  {
   "cell_type": "code",
   "execution_count": 119,
   "metadata": {},
   "outputs": [],
   "source": [
    "# Number of trees in random forest\n",
    "n_estimators = [int(x) for x in np.linspace(start = 1000, stop = 6000, num = 10)]\n",
    "\n",
    "# Number of features to consider at every split\n",
    "max_features = ['auto', 'sqrt']\n",
    "\n",
    "# Maximum number of levels in tree\n",
    "max_depth = [int(x) for x in np.linspace(1, 200, num = 5)]\n",
    "#max_depth.append(None)\n",
    "\n",
    "# Minimum number of samples required to split a node\n",
    "min_samples_split = [2, 5, 10, 12, 14, 16, 18]\n",
    "\n",
    "# Minimum number of samples required at each leaf node\n",
    "min_samples_leaf = [2, 4, 6, 8, 10]\n",
    "\n",
    "# Method of selecting samples for training each tree\n",
    "bootstrap = [True, False]"
   ]
  },
  {
   "cell_type": "code",
   "execution_count": 120,
   "metadata": {},
   "outputs": [],
   "source": [
    "#Create the random grid\n",
    "param_grid = {'n_estimators': n_estimators,\n",
    "               'max_features': max_features,\n",
    "               'max_depth': max_depth,\n",
    "               'min_samples_split': min_samples_split,\n",
    "               'min_samples_leaf': min_samples_leaf,\n",
    "               'bootstrap': bootstrap}"
   ]
  },
  {
   "cell_type": "code",
   "execution_count": 121,
   "metadata": {},
   "outputs": [
    {
     "name": "stdout",
     "output_type": "stream",
     "text": [
      "Fitting 3 folds for each of 100 candidates, totalling 300 fits\n"
     ]
    },
    {
     "data": {
      "text/plain": [
       "RandomizedSearchCV(cv=3, estimator=RandomForestRegressor(), n_iter=100,\n",
       "                   n_jobs=-1,\n",
       "                   param_distributions={'bootstrap': [True, False],\n",
       "                                        'max_depth': [1, 50, 100, 150, 200],\n",
       "                                        'max_features': ['auto', 'sqrt'],\n",
       "                                        'min_samples_leaf': [2, 4, 6, 8, 10],\n",
       "                                        'min_samples_split': [2, 5, 10, 12, 14,\n",
       "                                                              16, 18],\n",
       "                                        'n_estimators': [1000, 1555, 2111, 2666,\n",
       "                                                         3222, 3777, 4333, 4888,\n",
       "                                                         5444, 6000]},\n",
       "                   random_state=10, verbose=2)"
      ]
     },
     "execution_count": 121,
     "metadata": {},
     "output_type": "execute_result"
    }
   ],
   "source": [
    "rfr = RandomForestRegressor()\n",
    "\n",
    "rfr_random = RandomizedSearchCV(estimator = rfr, param_distributions = param_grid, \n",
    "                               n_iter = 100, cv = 3, verbose=2, random_state = 10, n_jobs = -1)\n",
    "\n",
    "rfr_random.fit(X_train, y_train)"
   ]
  },
  {
   "cell_type": "code",
   "execution_count": 123,
   "metadata": {},
   "outputs": [
    {
     "data": {
      "text/plain": [
       "{'n_estimators': 3777,\n",
       " 'min_samples_split': 5,\n",
       " 'min_samples_leaf': 2,\n",
       " 'max_features': 'sqrt',\n",
       " 'max_depth': 100,\n",
       " 'bootstrap': False}"
      ]
     },
     "execution_count": 123,
     "metadata": {},
     "output_type": "execute_result"
    }
   ],
   "source": [
    "rfr_random.best_params_"
   ]
  },
  {
   "cell_type": "code",
   "execution_count": 48,
   "metadata": {},
   "outputs": [],
   "source": [
    "model_41 = RandomForestRegressor(**{'n_estimators': 3777,\n",
    " 'min_samples_split': 5,\n",
    " 'min_samples_leaf': 2,\n",
    " 'max_features': 'sqrt',\n",
    " 'max_depth': 100,\n",
    " 'bootstrap': False})"
   ]
  },
  {
   "cell_type": "code",
   "execution_count": 49,
   "metadata": {},
   "outputs": [
    {
     "data": {
      "text/plain": [
       "RandomForestRegressor(bootstrap=False, max_depth=100, max_features='sqrt',\n",
       "                      min_samples_leaf=2, min_samples_split=5,\n",
       "                      n_estimators=3777)"
      ]
     },
     "execution_count": 49,
     "metadata": {},
     "output_type": "execute_result"
    }
   ],
   "source": [
    "model_41.fit(X_train, y_train)"
   ]
  },
  {
   "cell_type": "code",
   "execution_count": 50,
   "metadata": {},
   "outputs": [],
   "source": [
    "train_pred41= model_41.predict(X_train)\n",
    "test_pred41= model_41.predict(X_test)"
   ]
  },
  {
   "cell_type": "code",
   "execution_count": 51,
   "metadata": {},
   "outputs": [
    {
     "name": "stdout",
     "output_type": "stream",
     "text": [
      "RMSE on train : 0.22687809072344164\n",
      "RMSE on test : 0.4414122917930748\n"
     ]
    }
   ],
   "source": [
    "rmse_train41= np.sqrt(mean_squared_error(y_train, train_pred41))\n",
    "rmse_test41= np.sqrt(mean_squared_error(y_test, test_pred41))\n",
    "\n",
    "print('RMSE on train :', rmse_train41)\n",
    "print('RMSE on test :', rmse_test41)"
   ]
  },
  {
   "cell_type": "code",
   "execution_count": 52,
   "metadata": {},
   "outputs": [
    {
     "name": "stdout",
     "output_type": "stream",
     "text": [
      "R2 on train : 0.9231156090747971\n",
      "R2 on test : 0.7229080559090957\n"
     ]
    }
   ],
   "source": [
    "r2_train41= model_41.score(X_train, y_train)\n",
    "r2_test41= model_41.score(X_test, y_test)\n",
    "\n",
    "print('R2 on train :', r2_train41)\n",
    "print('R2 on test :', r2_test41)"
   ]
  },
  {
   "cell_type": "code",
   "execution_count": 58,
   "metadata": {},
   "outputs": [],
   "source": [
    "df2.to_csv('final_df.csv', index= False)"
   ]
  },
  {
   "cell_type": "code",
   "execution_count": 60,
   "metadata": {},
   "outputs": [],
   "source": [
    "import pickle"
   ]
  },
  {
   "cell_type": "code",
   "execution_count": 61,
   "metadata": {},
   "outputs": [],
   "source": [
    "file= 'RFR_nobroker.pkl'\n",
    "pickle.dump(model_41, open(file, 'wb'))"
   ]
  },
  {
   "cell_type": "code",
   "execution_count": 53,
   "metadata": {},
   "outputs": [],
   "source": [
    "import joblib"
   ]
  },
  {
   "cell_type": "code",
   "execution_count": 54,
   "metadata": {},
   "outputs": [
    {
     "data": {
      "text/plain": [
       "['rfr.pkl']"
      ]
     },
     "execution_count": 54,
     "metadata": {},
     "output_type": "execute_result"
    }
   ],
   "source": [
    "joblib.dump(model_41, 'rfr.pkl')"
   ]
  },
  {
   "cell_type": "code",
   "execution_count": null,
   "metadata": {},
   "outputs": [],
   "source": []
  },
  {
   "cell_type": "code",
   "execution_count": 62,
   "metadata": {},
   "outputs": [
    {
     "data": {
      "text/plain": [
       "Index(['bedrooms', 'bathroom', 'balcony', 'parking', 'power_backup',\n",
       "       'bldg_age', 'furnishing', 'transit_score', 'Cement', 'Tiles', 'Wooden',\n",
       "       'Dont know', 'East', 'North', 'South', 'West', 'Bangalore', 'Chennai',\n",
       "       'Delhi', 'Faridabad', 'Ghaziabad', 'Gurgaon', 'Hyderabad', 'Mumbai',\n",
       "       'Noida', 'Pune', 'area'],\n",
       "      dtype='object')"
      ]
     },
     "execution_count": 62,
     "metadata": {},
     "output_type": "execute_result"
    }
   ],
   "source": [
    "X.columns"
   ]
  },
  {
   "cell_type": "code",
   "execution_count": 63,
   "metadata": {},
   "outputs": [
    {
     "data": {
      "text/plain": [
       "27"
      ]
     },
     "execution_count": 63,
     "metadata": {},
     "output_type": "execute_result"
    }
   ],
   "source": [
    "len(X.columns)"
   ]
  },
  {
   "cell_type": "code",
   "execution_count": 66,
   "metadata": {},
   "outputs": [],
   "source": [
    "def predict_price(flooring, facing, location, area, bedroom, bathroom, balcony, parking, power, age, furnishing, transit):    \n",
    "    floor_index = np.where(X.columns==flooring)[0][0]\n",
    "    facing_index = np.where(X.columns==facing)[0][0]\n",
    "    loc_index = np.where(X.columns==location)[0][0]\n",
    "\n",
    "    x = np.zeros(len(X.columns))\n",
    "    x[26] = area\n",
    "    x[0] = bedroom\n",
    "    x[1] = bathroom\n",
    "    x[2] = balcony\n",
    "    x[3] = parking\n",
    "    x[4] = power\n",
    "    x[5] = age\n",
    "    x[6] = furnishing\n",
    "    x[7] = transit\n",
    "    \n",
    "    if floor_index >= 0:\n",
    "        x[floor_index] = 1\n",
    "        \n",
    "        \n",
    "    if facing_index >= 0:\n",
    "        x[facing_index] = 1\n",
    "\n",
    "    if loc_index >= 0:\n",
    "        x[loc_index] = 1   \n",
    "        \n",
    "    prediction= model_41.predict([x])[0]\n",
    "    prediction= np.exp(prediction)\n",
    "    \n",
    "    return int(prediction)"
   ]
  },
  {
   "cell_type": "code",
   "execution_count": 67,
   "metadata": {},
   "outputs": [
    {
     "data": {
      "text/plain": [
       "16.466874878134576"
      ]
     },
     "execution_count": 67,
     "metadata": {},
     "output_type": "execute_result"
    }
   ],
   "source": [
    "predict_price('Tiles', 'North', 'Delhi', 400, 1, 2, 2, 2, 1, 1, 1, 8.7)"
   ]
  },
  {
   "cell_type": "code",
   "execution_count": 68,
   "metadata": {},
   "outputs": [],
   "source": [
    "a= np.exp(16.466874878134576)"
   ]
  },
  {
   "cell_type": "code",
   "execution_count": 69,
   "metadata": {},
   "outputs": [
    {
     "data": {
      "text/plain": [
       "14173362"
      ]
     },
     "execution_count": 69,
     "metadata": {},
     "output_type": "execute_result"
    }
   ],
   "source": [
    "int(a)"
   ]
  },
  {
   "cell_type": "code",
   "execution_count": null,
   "metadata": {},
   "outputs": [],
   "source": []
  }
 ],
 "metadata": {
  "kernelspec": {
   "display_name": "Python 3",
   "language": "python",
   "name": "python3"
  },
  "language_info": {
   "codemirror_mode": {
    "name": "ipython",
    "version": 3
   },
   "file_extension": ".py",
   "mimetype": "text/x-python",
   "name": "python",
   "nbconvert_exporter": "python",
   "pygments_lexer": "ipython3",
   "version": "3.8.5"
  }
 },
 "nbformat": 4,
 "nbformat_minor": 4
}
